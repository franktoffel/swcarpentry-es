{
 "metadata": {
  "name": ""
 },
 "nbformat": 3,
 "nbformat_minor": 0,
 "worksheets": [
  {
   "cells": [
    {
     "cell_type": "heading",
     "level": 2,
     "metadata": {},
     "source": [
      "Seleccionando Datos"
     ]
    },
    {
     "cell_type": "markdown",
     "metadata": {},
     "source": [
      "Durante finales de la d\u00e9cada de 1920 e inicios de la d\u00e9cada de 1930,\n",
      "William Dyer,\n",
      "Frank Pabodie,\n",
      "y Valentina Roerich lideraron expediciones hacia el\n",
      "[Polo de Inaccesibilidad](http://es.wikipedia.org/wiki/Polo_de_inaccesibilidad)\n",
      "en el Pac\u00edfico Sur,\n",
      "y luego hacia la Ant\u00e1rtica.\n",
      "Hace dos a\u00f1os,\n",
      "sus expediciones fueron halladas en un casillero en la Universidad de Miskatonic.\n",
      "Hemos escaneado la informaci\u00f3n que contienen, y le hicimos un reconocimiento \u00f3ptico de caracteres (OCR),\n",
      "y ahora queremos almacenar dicha informaci\u00f3n\n",
      "de una manera que facilite su b\u00fasqueda y an\u00e1lisis.\n",
      "\n",
      "B\u00e1sicamente tenemos tres opciones:\n",
      "archivos de texto,\n",
      "una hoja de c\u00e1lculo,\n",
      "o una *database* (base de datos).\n",
      "Los archivos de texto son los m\u00e1s f\u00e1ciles de crear,\n",
      "y funcionan bien con sistemas de control de versiones,\n",
      "pero entonces nosotros mismos tendr\u00edamos que desarrollar herramientas de b\u00fasqueda y an\u00e1lisis.\n",
      "Las hojas de c\u00e1lculo son \u00fatiles para realizar an\u00e1lisis simples,\n",
      "aunque no manejan muy bien conjuntos de datos que sean grandes y complejos.\n",
      "Por lo tanto, nos gustar\u00eda colocar toda esta informaci\u00f3n en una base de datos,\n",
      "y estas lecciones mostrar\u00e1n c\u00f3mo hacer eso."
     ]
    },
    {
     "cell_type": "markdown",
     "metadata": {
      "cell_tags": [
       "objectives"
      ]
     },
     "source": [
      "#### Objetivos\n",
      "\n",
      "*   Explicar la diferencia entre una tabla, un registro, y un campo.\n",
      "*   Explicar la diferencia entre una base de datos y un gestor de bases de datos.\n",
      "*   Escribir una *query* para seleccionar todos los valores correspondientes a campos espec\u00edficos de una tabla."
     ]
    },
    {
     "cell_type": "heading",
     "level": 3,
     "metadata": {},
     "source": [
      "Algunas Definiciones"
     ]
    },
    {
     "cell_type": "markdown",
     "metadata": {},
     "source": [
      "Una [*relational database*](../../gloss.html#relational-database) (base de datos relacional)\n",
      "es una forma de almacenar y manipular informaci\u00f3n\n",
      "organizada en [*tables*](../../gloss.html#table-database) (tablas).\n",
      "Cada tabla tiene columnas (tambi\u00e9n conocidas como [*fields*](../../gloss.html#field-database) (campos)) las cuales describen los datos,\n",
      "y filas (tambi\u00e9n conocidas como [*records*](../../gloss.html#record-database) (registros)) las cuales contienen los datos.\n",
      "  \n",
      "Cuando utilizamos una hoja de c\u00e1lculo,\n",
      "introducimos f\u00f3rmulas en las celdas para calcular nuevos valores en base a los valores ya conocidos.\n",
      "Cuando utilizamos una base de datos,\n",
      "enviamos comandos\n",
      "(usualmente llamados [*queries*](../../gloss.html#query) (consultas))\n",
      "a un [*database manager*](../../gloss.html#database-manager) (gestor de bases de datos):\n",
      "un programa que manipula la base de datos por nosotros.\n",
      "El gestor de bases de datos realiza todas las b\u00fasquedas y c\u00e1lculos especificados en la *query*,\n",
      "devolviendo los resultados organizados en una tabla\n",
      "que luego podremos utilizar como punto de partida para *queries* posteriores.\n",
      "  \n",
      "> Cada gestor de bases de datos&mdash;Oracle,\n",
      "> IBM DB2, PostgreSQL, MySQL, Microsoft Access, and SQLite&mdash;almacena\n",
      "> datos de modo diferente,\n",
      "> asi que una base de datos creada con alguno de ellos no puede ser utlizada directamente por otro.\n",
      "> Sin embargo,\n",
      "> cada gestor de bases de datos puede importar y exportar datos en una variedad de formatos,\n",
      "> por lo tanto **es** posible mover informaci\u00f3n de uno a otro.\n",
      "\n",
      "Las *queries* son escritas en un lenguaje llamado [SQL](../../gloss.html#sql),\n",
      "cuyas siglas en ingl\u00e9s representan \"*Structured Query Language*\" (\"Lenguaje de Consulta Estructurado\").\n",
      "SQL proporciona cientos de diferentes formas de analizar y recombinar datos;\n",
      "s\u00f3lo prestaremos atenci\u00f3n a unos pocos,\n",
      "pero que son v\u00e1lidos para la mayor parte del trabajo que los cient\u00edficos realizan.\n",
      "\n",
      "Las siguientes tablas muestran la base de datos que utilizaremos en nuestros ejemplos:"
     ]
    },
    {
     "cell_type": "markdown",
     "metadata": {},
     "source": [
      "<table>\n",
      "<tr>\n",
      "<td valign=\"top\">\n",
      "**Person**: las personas que tomaron mediciones.\n",
      "\n",
      "<table>\n",
      "  <tr> <th>ident</th> <th>personal</th> <th>family</th> </tr>\n",
      "  <tr> <td>dyer</td> <td>William</td> <td>Dyer</td> </tr>\n",
      "  <tr> <td>pb</td> <td>Frank</td> <td>Pabodie</td> </tr>\n",
      "  <tr> <td>lake</td> <td>Anderson</td> <td>Lake</td> </tr>\n",
      "  <tr> <td>roe</td> <td>Valentina</td> <td>Roerich</td> </tr>\n",
      "  <tr> <td>danforth</td> <td>Frank</td> <td>Danforth</td> </tr>\n",
      "</table>\n",
      "\n",
      "**Site**: ubicaciones geogr\u00e1ficas d\u00f3nde se tomaron las mediciones.\n",
      "\n",
      "<table>\n",
      "  <tr> <th>name</th> <th>lat</th> <th>long</th> </tr>\n",
      "  <tr> <td>DR-1</td> <td>-49.85</td> <td>-128.57</td> </tr>\n",
      "  <tr> <td>DR-3</td> <td>-47.15</td> <td>-126.72</td> </tr>\n",
      "  <tr> <td>MSK-4</td> <td>-48.87</td> <td>-123.4</td> </tr>\n",
      "</table>\n",
      "\n",
      "**Visited**: las fechas en que se tomaron las mediciones.\n",
      "\n",
      "<table>\n",
      "  <tr> <th>ident</th> <th>site</th> <th>dated</th> </tr>\n",
      "  <tr> <td>619</td> <td>DR-1</td> <td>1927-02-08</td> </tr>\n",
      "  <tr> <td>622</td> <td>DR-1</td> <td>1927-02-10</td> </tr>\n",
      "  <tr> <td>734</td> <td>DR-3</td> <td>1939-01-07</td> </tr>\n",
      "  <tr> <td>735</td> <td>DR-3</td> <td>1930-01-12</td> </tr>\n",
      "  <tr> <td>751</td> <td>DR-3</td> <td>1930-02-26</td> </tr>\n",
      "  <tr> <td>752</td> <td>DR-3</td> <td bgcolor=\"red\">&nbsp;</td> </tr>\n",
      "  <tr> <td>837</td> <td>MSK-4</td> <td>1932-01-14</td> </tr>\n",
      "  <tr> <td>844</td> <td>DR-1</td> <td>1932-03-22</td> </tr>\n",
      "</table>\n",
      "</td>\n",
      "<td valign=\"top\">\n",
      "**Survey**: las mediciones tomadas.\n",
      "\n",
      "<table>\n",
      "  <tr> <th>taken</th> <th>person</th> <th>quant</th> <th>reading</th> </tr>\n",
      "  <tr> <td>619</td> <td>dyer</td> <td>rad</td> <td>9.82</td> </tr>\n",
      "  <tr> <td>619</td> <td>dyer</td> <td>sal</td> <td>0.13</td> </tr>\n",
      "  <tr> <td>622</td> <td>dyer</td> <td>rad</td> <td>7.8</td> </tr>\n",
      "  <tr> <td>622</td> <td>dyer</td> <td>sal</td> <td>0.09</td> </tr>\n",
      "  <tr> <td>734</td> <td>pb</td> <td>rad</td> <td>8.41</td> </tr>\n",
      "  <tr> <td>734</td> <td>lake</td> <td>sal</td> <td>0.05</td> </tr>\n",
      "  <tr> <td>734</td> <td>pb</td> <td>temp</td> <td>-21.5</td> </tr>\n",
      "  <tr> <td>735</td> <td>pb</td> <td>rad</td> <td>7.22</td> </tr>\n",
      "  <tr> <td>735</td> <td bgcolor=\"red\">&nbsp;</td> <td>sal</td> <td>0.06</td> </tr>\n",
      "  <tr> <td>735</td> <td bgcolor=\"red\">&nbsp;</td> <td>temp</td> <td>-26.0</td> </tr>\n",
      "  <tr> <td>751</td> <td>pb</td> <td>rad</td> <td>4.35</td> </tr>\n",
      "  <tr> <td>751</td> <td>pb</td> <td>temp</td> <td>-18.5</td> </tr>\n",
      "  <tr> <td>751</td> <td>lake</td> <td>sal</td> <td>0.1</td> </tr>\n",
      "  <tr> <td>752</td> <td>lake</td> <td>rad</td> <td>2.19</td> </tr>\n",
      "  <tr> <td>752</td> <td>lake</td> <td>sal</td> <td>0.09</td> </tr>\n",
      "  <tr> <td>752</td> <td>lake</td> <td>temp</td> <td>-16.0</td> </tr>\n",
      "  <tr> <td>752</td> <td>roe</td> <td>sal</td> <td>41.6</td> </tr>\n",
      "  <tr> <td>837</td> <td>lake</td> <td>rad</td> <td>1.46</td> </tr>\n",
      "  <tr> <td>837</td> <td>lake</td> <td>sal</td> <td>0.21</td> </tr>\n",
      "  <tr> <td>837</td> <td>roe</td> <td>sal</td> <td>22.5</td> </tr>\n",
      "  <tr> <td>844</td> <td>roe</td> <td>rad</td> <td>11.25</td> </tr>\n",
      "</table>\n",
      "</td>\n",
      "</tr>\n",
      "</table>"
     ]
    },
    {
     "cell_type": "markdown",
     "metadata": {},
     "source": [
      "Cuatro tablas conforman nuestra base de datos: *Person* (Persona), *Site* (Sitio), *Visited* (Visitados) y *Survey* (Sondeo). "
     ]
    },
    {
     "cell_type": "markdown",
     "metadata": {},
     "source": [
      "N\u00f3tese que tres entradas&mdash;una en la tabla `Visited`,\n",
      "y dos en la tabla `Survey`&mdash;se muestran en rojo\n",
      "ya que no contienen ning\u00fan dato:\n",
      "volveremos a estos valores faltantes [luego](#s:null).\n",
      "Por ahora,\n",
      "escribamos una *query* SQL que muestre los nombres de los cient\u00edficos.\n",
      "Para esto, utilizamos el comando SQL `select`,\n",
      "proporcionando los nombres de las columnas que deseamos y la tabla de la cual deseamos que provengan.\n",
      "Nuestra *query* y su resultado se ven as\u00ed:"
     ]
    },
    {
     "cell_type": "code",
     "collapsed": false,
     "input": [
      "%load_ext sqlitemagic\n",
      "# 'sqlitemagic' es una extensi\u00f3n de iPython que permite ejecutar queries SQL y mostrar su resultado en tablas."
     ],
     "language": "python",
     "metadata": {},
     "outputs": [],
     "prompt_number": 1
    },
    {
     "cell_type": "code",
     "collapsed": false,
     "input": [
      "%%sqlite survey.db\n",
      "select family, personal from Person;\n",
      "# los nombres de las columnas \"family\" y \"personal\" son, respectivamente,\n",
      "# abreviaturas de \"family name\" (apellido) y \"personal name\" (nombre propio)."
     ],
     "language": "python",
     "metadata": {},
     "outputs": [
      {
       "html": [
        "<table>\n",
        "<tr><td>Dyer</td><td>William</td></tr>\n",
        "<tr><td>Pabodie</td><td>Frank</td></tr>\n",
        "<tr><td>Lake</td><td>Anderson</td></tr>\n",
        "<tr><td>Roerich</td><td>Valentina</td></tr>\n",
        "<tr><td>Danforth</td><td>Frank</td></tr>\n",
        "</table>"
       ],
       "metadata": {},
       "output_type": "display_data",
       "text": [
        "<IPython.core.display.HTML at 0x102353a10>"
       ]
      }
     ],
     "prompt_number": 2
    },
    {
     "cell_type": "markdown",
     "metadata": {},
     "source": [
      "El s\u00edmbolo punto y coma al final de la *query* \n",
      "le indica al gestor de bases de datos que la consulta est\u00e1 completada y lista para ser ejecutada.\n",
      "Hemos escrito nuestros comandos y el nombre de columna en letra min\u00fascula,\n",
      "y el nombre de la tabla con la primera letra en may\u00fascula,\n",
      "pero no estamos obligados a hacerlo:\n",
      "como se muestra en el siguiente ejemplo,\n",
      "SQL es [*case insensitive*](../../gloss.html#case-insensitive) (insensible a may\u00fasculas y min\u00fasculas)."
     ]
    },
    {
     "cell_type": "code",
     "collapsed": false,
     "input": [
      "%%sqlite survey.db\n",
      "SeLeCt FaMiLy, PeRsOnAl FrOm PeRsOn;"
     ],
     "language": "python",
     "metadata": {},
     "outputs": [
      {
       "html": [
        "<table>\n",
        "<tr><td>Dyer</td><td>William</td></tr>\n",
        "<tr><td>Pabodie</td><td>Frank</td></tr>\n",
        "<tr><td>Lake</td><td>Anderson</td></tr>\n",
        "<tr><td>Roerich</td><td>Valentina</td></tr>\n",
        "<tr><td>Danforth</td><td>Frank</td></tr>\n",
        "</table>"
       ],
       "metadata": {},
       "output_type": "display_data",
       "text": [
        "<IPython.core.display.HTML at 0x102353c90>"
       ]
      }
     ],
     "prompt_number": 3
    },
    {
     "cell_type": "markdown",
     "metadata": {},
     "source": [
      "Cualquiera que sea la distribuci\u00f3n de may\u00fasculas y min\u00fasculas que utilices,\n",
      "por favor se consistente: \n",
      "las *queries* complejas son suficientemente dif\u00edciles de leer sin la carga cognitiva adicional causada por un uso aleatorio de las may\u00fasculas y min\u00fasculas."
     ]
    },
    {
     "cell_type": "markdown",
     "metadata": {},
     "source": [
      "Volviendo a nuestra *query*, \n",
      "es importante entender que\n",
      "las filas y columnas en una base de datos, en realidad, no est\u00e1m almacenadas en ning\u00fan orden particular.\n",
      "Ellas siempre ser\u00e1n **mostradas** en alg\u00fan orden,\n",
      "pero podemos controlar eso de varias maneras.\n",
      "Por ejemplo,\n",
      "podr\u00edamos intercambiar las columnas en el resultado escribiendo nuestra *query* as\u00ed:"
     ]
    },
    {
     "cell_type": "code",
     "collapsed": false,
     "input": [
      "%%sqlite survey.db\n",
      "select personal, family from Person;"
     ],
     "language": "python",
     "metadata": {},
     "outputs": [
      {
       "html": [
        "<table>\n",
        "<tr><td>William</td><td>Dyer</td></tr>\n",
        "<tr><td>Frank</td><td>Pabodie</td></tr>\n",
        "<tr><td>Anderson</td><td>Lake</td></tr>\n",
        "<tr><td>Valentina</td><td>Roerich</td></tr>\n",
        "<tr><td>Frank</td><td>Danforth</td></tr>\n",
        "</table>"
       ],
       "metadata": {},
       "output_type": "display_data",
       "text": [
        "<IPython.core.display.HTML at 0x102353a10>"
       ]
      }
     ],
     "prompt_number": 4
    },
    {
     "cell_type": "markdown",
     "metadata": {},
     "source": [
      "o tambi\u00e9n repetir columnas:"
     ]
    },
    {
     "cell_type": "code",
     "collapsed": false,
     "input": [
      "%%sqlite survey.db\n",
      "select ident, ident, ident from Person;\n",
      "# select (seleccionar): Comando SQL utilizado para indicar los campos de la tabla cuyos datos deseamos extraer.\n",
      "# from (de, desde): Palabra reservada SQL utilizada para hacer referencia a la tabla de la cual deseamos extraer\n",
      "# el nombre de la columna \"ident\" es la abreviatura de \"identification\" (identificaci\u00f3n)"
     ],
     "language": "python",
     "metadata": {},
     "outputs": [
      {
       "html": [
        "<table>\n",
        "<tr><td>dyer</td><td>dyer</td><td>dyer</td></tr>\n",
        "<tr><td>pb</td><td>pb</td><td>pb</td></tr>\n",
        "<tr><td>lake</td><td>lake</td><td>lake</td></tr>\n",
        "<tr><td>roe</td><td>roe</td><td>roe</td></tr>\n",
        "<tr><td>danforth</td><td>danforth</td><td>danforth</td></tr>\n",
        "</table>"
       ],
       "metadata": {},
       "output_type": "display_data",
       "text": [
        "<IPython.core.display.HTML at 0x102353b10>"
       ]
      }
     ],
     "prompt_number": 5
    },
    {
     "cell_type": "markdown",
     "metadata": {},
     "source": [
      "Y como atajo,\n",
      "podemos seleccionar todas las columnas en una tabla utilizando `*`:"
     ]
    },
    {
     "cell_type": "code",
     "collapsed": false,
     "input": [
      "%%sqlite survey.db\n",
      "select * from Person;"
     ],
     "language": "python",
     "metadata": {},
     "outputs": [
      {
       "html": [
        "<table>\n",
        "<tr><td>dyer</td><td>William</td><td>Dyer</td></tr>\n",
        "<tr><td>pb</td><td>Frank</td><td>Pabodie</td></tr>\n",
        "<tr><td>lake</td><td>Anderson</td><td>Lake</td></tr>\n",
        "<tr><td>roe</td><td>Valentina</td><td>Roerich</td></tr>\n",
        "<tr><td>danforth</td><td>Frank</td><td>Danforth</td></tr>\n",
        "</table>"
       ],
       "metadata": {},
       "output_type": "display_data",
       "text": [
        "<IPython.core.display.HTML at 0x102353bd0>"
       ]
      }
     ],
     "prompt_number": 6
    },
    {
     "cell_type": "markdown",
     "metadata": {},
     "source": [
      "#### Desaf\u00edos\n",
      "\n",
      "1.  Escribe una *query* que seleccione solamente los nombres de sitio de la tabla `Site`.\n",
      "\n",
      "2.  Muchas presonas escriben sus *queries* con el siguiente formato:\n",
      "\n",
      "    ~~~\n",
      "    SELECT personal, family FROM person;\n",
      "    ~~~\n",
      "\n",
      "    o as\u00ed:\n",
      "\n",
      "    ~~~\n",
      "    select Personal, Family from PERSON;\n",
      "    ~~~\n",
      "\n",
      "    \u00bfCu\u00e1l de estos estilos te parece m\u00e1s f\u00e1cil de leer, y por qu\u00e9?"
     ]
    },
    {
     "cell_type": "markdown",
     "metadata": {
      "cell_tags": [
       "keypoints"
      ]
     },
     "source": [
      "#### Aspectos Clave\n",
      "\n",
      "*   Una base de datos relacional almacena informaci\u00f3n en tablas,\n",
      "    cada una de las cuales tiene un n\u00famero fijo de columnas y un n\u00famero variable de registros.\n",
      "*   Un gestor de bases de datos es un programa que manipula informaci\u00f3n almacenada en una base de datos.\n",
      "*   Escribimos *queries* en un lenguaje especializado llamado SQL para extraer informaci\u00f3n de bases de datos.\n",
      "*   SQL es insensible a may\u00fasculas y min\u00fasculas."
     ]
    }
   ],
   "metadata": {}
  }
 ]
}