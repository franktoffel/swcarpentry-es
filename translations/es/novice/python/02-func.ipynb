{
 "metadata": {
  "name": "",
  "signature": "sha256:fe4e18c993b672281fbfd13e6ad11695fdd3fcf203c5268457fcd25f048b0563"
 },
 "nbformat": 3,
 "nbformat_minor": 0,
 "worksheets": [
  {
   "cells": [
    {
     "cell_type": "heading",
     "level": 2,
     "metadata": {
      "cell_tags": []
     },
     "source": [
      "Creando Funciones"
     ]
    },
    {
     "cell_type": "markdown",
     "metadata": {
      "cell_tags": []
     },
     "source": [
      "Si s\u00f3lo tuvi\u00e9ramos un conjunto de datos para analizar, \n",
      "probablemente ser\u00eda m\u00e1s r\u00e1pido cargar el archivo en una hoja de c\u00e1lculo \n",
      "y usarlo para calcular algunas estad\u00edsticas simples. \n",
      "Pero tenemos que comprobar doce archivos, \n",
      "y posiblemente tengamos m\u00e1s en un futuro. \n",
      "En esta lecci\u00f3n, \n",
      "vamos a aprender c\u00f3mo escribir una funci\u00f3n \n",
      "para que podamos repetir varias operaciones con un solo comando."
     ]
    },
    {
     "cell_type": "markdown",
     "metadata": {
      "cell_tags": [
       "objectives"
      ]
     },
     "source": [
      "#### Objetivos\n",
      "\n",
      "*   Definir una funci\u00f3n que toma par\u00e1metros.\n",
      "*   Obtener un valor a partir de una funci\u00f3n.\n",
      "*   Probar y depurar una funci\u00f3n.\n",
      "*   Explicar que es un *call stack* (pila de llamadas), \n",
      "    y  realizar cambios en el *call stack* en funci\u00f3n de las llamadas.\n",
      "*   Establecer valores predeterminados para los par\u00e1metros de funci\u00f3n.\n",
      "*   Explique por qu\u00e9 debemos dividir los programas en funciones peque\u00f1as,\n",
      "    de un solo uso."
     ]
    },
    {
     "cell_type": "heading",
     "level": 3,
     "metadata": {
      "cell_tags": []
     },
     "source": [
      "Definiendo una Funci\u00f3n"
     ]
    },
    {
     "cell_type": "markdown",
     "metadata": {
      "cell_tags": []
     },
     "source": [
      "Vamos a comenzar por la definici\u00f3n de una funci\u00f3n `fahr_to_kelvin` que convierte temperaturas de Fahrenheit a Kelvin:"
     ]
    },
    {
     "cell_type": "code",
     "collapsed": false,
     "input": [
      "def fahr_to_kelvin(temp):\n",
      "    return ((temp - 32) * (5/9)) + 273.15"
     ],
     "language": "python",
     "metadata": {
      "cell_tags": []
     },
     "outputs": [],
     "prompt_number": 1
    },
    {
     "cell_type": "markdown",
     "metadata": {
      "cell_tags": []
     },
     "source": [
      "La definici\u00f3n empieza con la palabra `def`,\n",
      "que es seguida por el nombre de la funci\u00f3n\n",
      "y una lista entre par\u00e9ntesis de los nombres de los par\u00e1metros.\n",
      "El [body](../../gloss.html#function-body) (cuerpo) de la funci\u00f3n&mdash;\n",
      "las declaraciones que se ejecutan cuando corre&mdash;se sangra por debajo \n",
      "de la l\u00ednea de definici\u00f3n,caracterizada t\u00edpicamente por cuatro espacios.\n",
      "\n",
      "Cuando llamamos a la funci\u00f3n, \n",
      "los valores que se transmiten se asignan a las variables \n",
      "de manera que podamos utilizarlos dentro de la funci\u00f3n.\n",
      "En el interior de la funci\u00f3n, \n",
      "utilizamos un [return statement](../../gloss.html#return-statement) \n",
      "para poder enviar un resultado a todo el que pregunte por ello. \n",
      "\n",
      "Vamos a tratar de utilizar nuestra funci\u00f3n.\n",
      "Llamar a nuestra propia funci\u00f3n no se diferencia de la llamada a \n",
      "cualquier otra funci\u00f3n:\n"
     ]
    },
    {
     "cell_type": "code",
     "collapsed": false,
     "input": [
      "print 'freezing point of water:', fahr_to_kelvin(32)\n",
      "print 'boiling point of water:', fahr_to_kelvin(212)"
     ],
     "language": "python",
     "metadata": {
      "cell_tags": []
     },
     "outputs": [
      {
       "output_type": "stream",
       "stream": "stdout",
       "text": [
        "freezing point of water: 273.15\n",
        "boiling point of water: 273.15\n"
       ]
      }
     ],
     "prompt_number": 2
    },
    {
     "cell_type": "markdown",
     "metadata": {},
     "source": [
      "Hemos llamado con \u00e9xito la funci\u00f3n que hemos definido, \n",
      "y tenemos acceso al valor que devuelve. \n",
      "Por desgracia, el valor devuelto no parece correcto.\n",
      "\u00bfQu\u00e9 sali\u00f3 mal?"
     ]
    },
    {
     "cell_type": "heading",
     "level": 3,
     "metadata": {},
     "source": [
      "*Debugging* una Funci\u00f3n"
     ]
    },
    {
     "cell_type": "markdown",
     "metadata": {},
     "source": [
      "*Debugging* (Depuraci\u00f3n) es cuando nos fijamos en un trozo de codigo\n",
      "que sabemos que es incorrecto.\n",
      "En este caso, sabemos que `fahr_to_kelvin`\n",
      "nos est\u00e1 dando la respuesta erronea,\n",
      "por lo que vamos a averiguar por qu\u00e9.\n",
      "\n",
      "Para las grandes piezas de codigo,\n",
      "existen herramientas llamadas *debuggers* (depuradores) \n",
      "que ayudan en este proceso.\n",
      "\n",
      "S\u00f3lo tenemos una funci\u00f3n corta,\n",
      "as\u00ed que vamos a depurar eligiendo algun valor de un par\u00e1metro,\n",
      "rompiendo nuestra funci\u00f3n en partes m\u00e1s peque\u00f1as,\n",
      "e imprimiendo el valor de cada parte."
     ]
    },
    {
     "cell_type": "code",
     "collapsed": false,
     "input": [
      "# We'll use temp = 212, the boiling point of water, which was incorrect\n",
      "print \"212 - 32:\", 212 - 32"
     ],
     "language": "python",
     "metadata": {},
     "outputs": [
      {
       "output_type": "stream",
       "stream": "stdout",
       "text": [
        "212 - 32: 180\n"
       ]
      }
     ],
     "prompt_number": 3
    },
    {
     "cell_type": "code",
     "collapsed": false,
     "input": [
      "print \"(212 - 32) * (5/9):\", (212 - 32) * (5/9)"
     ],
     "language": "python",
     "metadata": {},
     "outputs": [
      {
       "output_type": "stream",
       "stream": "stdout",
       "text": [
        "(212 - 32) * (5/9): 0\n"
       ]
      }
     ],
     "prompt_number": 4
    },
    {
     "cell_type": "markdown",
     "metadata": {},
     "source": [
      "\u00a1Ah\u00e1! El problema viene cuando se multiplica por `5/9`.\n",
      "Esto se debe a que `5/9` en realidad es 0."
     ]
    },
    {
     "cell_type": "code",
     "collapsed": false,
     "input": [
      "5/9"
     ],
     "language": "python",
     "metadata": {},
     "outputs": [
      {
       "metadata": {},
       "output_type": "pyout",
       "prompt_number": 5,
       "text": [
        "0"
       ]
      }
     ],
     "prompt_number": 5
    },
    {
     "cell_type": "markdown",
     "metadata": {
      "cell_tags": []
     },
     "source": [
      "Ordenadores almacenan n\u00fameros de dos maneras:\n",
      "como [integers](../../gloss.html#integer) (enteros)\n",
      "o como [floating-point numbers](../../gloss.html#float) *(or floats)*.\n",
      "Los primeros son los n\u00fameros con los que solemos contar;\n",
      "los segundos tiene partes fraccionarias. \n",
      "Suma, resta y multiplicaci\u00f3n funcionan en ambos como es de esperar, \n",
      "pero la divisi\u00f3n funciona de manera diferente. \n",
      "Si dividimos un entero por otro, \n",
      "obtenemos el cociente sin el resto: \n"
     ]
    },
    {
     "cell_type": "code",
     "collapsed": false,
     "input": [
      "print '10/3 is:', 10/3"
     ],
     "language": "python",
     "metadata": {
      "cell_tags": []
     },
     "outputs": [
      {
       "output_type": "stream",
       "stream": "stdout",
       "text": [
        "10/3 is: 3\n"
       ]
      }
     ],
     "prompt_number": 6
    },
    {
     "cell_type": "markdown",
     "metadata": {
      "cell_tags": []
     },
     "source": [
      "Si cualquier parte de la divisi\u00f3n es un *float*.\n",
      "Por otro lado, \n",
      "el ordenador crea una respuesta de *floating-point*:"
     ]
    },
    {
     "cell_type": "code",
     "collapsed": false,
     "input": [
      "print '10.0/3 is:', 10.0/3"
     ],
     "language": "python",
     "metadata": {
      "cell_tags": []
     },
     "outputs": [
      {
       "output_type": "stream",
       "stream": "stdout",
       "text": [
        "10.0/3 is: 3.33333333333\n"
       ]
      }
     ],
     "prompt_number": 7
    },
    {
     "cell_type": "markdown",
     "metadata": {
      "cell_tags": []
     },
     "source": [
      "El ordenador hace esto por razones hist\u00f3ricas:\n",
      "operaciones con enteros eran mucho m\u00e1s r\u00e1pidas en \n",
      "las primeras m\u00e1quinas,\n",
      "siendo este comportamientos realmente \u00fatil en muchas situaciones.\n",
      "\n",
      "A\u00fan es algo confuso,\n",
      "aunque,\n",
      "si es necesario Python 3 produce una respuesta de *floating-point*\n",
      "cuando se dividen enteros.\n",
      "Todav\u00eda estamos usando Python 2.7 en esta clase,\n",
      "sin embargo,\n",
      "si queremos que `5/9` nos devuelva la respuesta correcta,\n",
      "debemos escribirlo como `5.0/9`, `5/9.0`, o algun otro variante.\n",
      "\n",
      "*REVISI\u00d3N*"
     ]
    },
    {
     "cell_type": "markdown",
     "metadata": {},
     "source": [
      "Vamos a corregir nuestra funci\u00f3n `fahr_to_kelvin` con este nuevo conocimiento."
     ]
    },
    {
     "cell_type": "code",
     "collapsed": false,
     "input": [
      "def fahr_to_kelvin(temp):\n",
      "    return ((temp - 32) * (5.0/9.0)) + 273.15\n",
      "\n",
      "print 'freezing point of water:', fahr_to_kelvin(32)\n",
      "print 'boiling point of water:', fahr_to_kelvin(212)"
     ],
     "language": "python",
     "metadata": {},
     "outputs": [
      {
       "output_type": "stream",
       "stream": "stdout",
       "text": [
        "freezing point of water: 273.15\n",
        "boiling point of water: 373.15\n"
       ]
      }
     ],
     "prompt_number": 8
    },
    {
     "cell_type": "markdown",
     "metadata": {
      "cell_tags": []
     },
     "source": [
      "Funciona!"
     ]
    },
    {
     "cell_type": "heading",
     "level": 3,
     "metadata": {},
     "source": [
      "Composici\u00f3n de Funciones"
     ]
    },
    {
     "cell_type": "markdown",
     "metadata": {},
     "source": [
      "Ahora que hemos visto c\u00f3mo convertir Fahrenheit en Kelvin, \n",
      "es f\u00e1cil convertir Kelvin en Celsius:"
     ]
    },
    {
     "cell_type": "code",
     "collapsed": false,
     "input": [
      "def kelvin_to_celsius(temp):\n",
      "    return temp - 273.15\n",
      "\n",
      "print 'absolute zero in Celsius:', kelvin_to_celsius(0.0)"
     ],
     "language": "python",
     "metadata": {
      "cell_tags": []
     },
     "outputs": [
      {
       "output_type": "stream",
       "stream": "stdout",
       "text": [
        "absolute zero in Celsius: -273.15\n"
       ]
      }
     ],
     "prompt_number": 9
    },
    {
     "cell_type": "markdown",
     "metadata": {
      "cell_tags": []
     },
     "source": [
      "\u00bfQu\u00e9 pasa con la conversi\u00f3n de Fahrenheit a Celsius?\n",
      "Podr\u00edamos escribir la f\u00f3rmula,\n",
      "pero no tenemos porque hacerlo.\n",
      "En lugar de ello, \n",
      "podemos [compose](../../gloss.html#function-composition) \n",
      "(componer) las dos funciones que ya hemos creado:"
     ]
    },
    {
     "cell_type": "code",
     "collapsed": false,
     "input": [
      "def fahr_to_celsius(temp):\n",
      "    temp_k = fahr_to_kelvin(temp)\n",
      "    result = kelvin_to_celsius(temp_k)\n",
      "    return result\n",
      "\n",
      "print 'freezing point of water in Celsius:', fahr_to_celsius(32.0)"
     ],
     "language": "python",
     "metadata": {
      "cell_tags": []
     },
     "outputs": [
      {
       "output_type": "stream",
       "stream": "stdout",
       "text": [
        "freezing point of water in Celsius: 0.0\n"
       ]
      }
     ],
     "prompt_number": 10
    },
    {
     "cell_type": "markdown",
     "metadata": {
      "cell_tags": []
     },
     "source": [
      "Esta es nuestra primera experiencia de c\u00f3mo se construyen \n",
      "programas m\u00e1s grandes:\n",
      "definimos las operaciones b\u00e1sicas,\n",
      "despues las combinamos cada vez en trozos m\u00e1s grandes \n",
      "para conseguir el efecto deseado.\n",
      "Funciones de la vida real suelen ser m\u00e1s grandes que las \n",
      "que se muestran aqu\u00ed\n",
      "&mdash;normalmente media docena a unas pocas docenas de lineas&mdash;\n",
      "pero no deben nunca ser mucho m\u00e1s largas que esto,\n",
      "o la siguiente persona que lo leea no va a ser\u00e1 capaz de \n",
      "entender lo que est\u00e1 sucediendo.\n"
     ]
    },
    {
     "cell_type": "markdown",
     "metadata": {
      "cell_tags": [
       "challenges"
      ]
     },
     "source": [
      "#### Retos\n",
      "\n",
      "1.  \"Adicionando\" dos series produce su concatenamiento:\n",
      "    `'a' + 'b'` es `'ab'`.\n",
      "    Escribe una funci\u00f3n llamada `fence` que toma dos par\u00e1metros llamados `original` y `wrapper`\n",
      "    y devuelve una cadena que tiene el car\u00e1cter de envoltura en el comienzo y el final del original:\n",
      "\n",
      "    ~~~python\n",
      "    print fence('name', '*')\n",
      "    *name*\n",
      "    ~~~\n",
      "\n",
      "1.  Si la variables `s` se refiere a una cadena,\n",
      "    entonces `s[0]` es el primer car\u00e1cter de la cadena\n",
      "    y `s[-1]` es el \u00faltimo.\n",
      "    Escribe una funci\u00f3n llamada `outer`\n",
      "    que devuelve una cadena formada tan solo por los primeros y \u00faltimo carcteres de su entrada:\n",
      "\n",
      "    ~~~python\n",
      "    print outer('helium')\n",
      "    hm\n",
      "    ~~~"
     ]
    },
    {
     "cell_type": "heading",
     "level": 3,
     "metadata": {
      "cell_tags": []
     },
     "source": [
      "*The Call Stack* (La Pila de Llamadas)"
     ]
    },
    {
     "cell_type": "markdown",
     "metadata": {
      "cell_tags": []
     },
     "source": [
      "Echemos un vistazo m\u00e1s de cerca lo que sucede cuando llamamos `fahr_to_celsius(32.0)`.\n",
      "Para aclarar las cosas,\n",
      "vamos a empezar por poner el valor inicial 32.0 en una variable \n",
      "y guardar el resultado final en una tambi\u00e9n:"
     ]
    },
    {
     "cell_type": "code",
     "collapsed": false,
     "input": [
      "original = 32.0\n",
      "final = fahr_to_celsius(original)"
     ],
     "language": "python",
     "metadata": {
      "cell_tags": []
     },
     "outputs": [],
     "prompt_number": 11
    },
    {
     "cell_type": "markdown",
     "metadata": {
      "cell_tags": []
     },
     "source": [
      "El siguiente diagrama muestra la forma de la memoria despu\u00e9s de haber ejecutado la primera l\u00ednea:"
     ]
    },
    {
     "cell_type": "markdown",
     "metadata": {
      "cell_tags": []
     },
     "source": [
      "<img src=\"files/img/python-call-stack-01.svg\" alt=\"Call Stack (Initial State)\" />"
     ]
    },
    {
     "cell_type": "markdown",
     "metadata": {
      "cell_tags": []
     },
     "source": [
      "Cuando llamamos `fahr_to_celsius`,\n",
      "Python * no * crea la variable `temp` inmediatamente.\n",
      "En lugar de ello,\n",
      "crea algo llamado [stack frame](../../gloss.html#stack-frame)\n",
      "para realizar un seguimiento de las variables definidas por `fahr_to_kelvin`.\n",
      "Inicialmente,\n",
      "este *stack frame* solo mantiene el valor de `temp`:"
     ]
    },
    {
     "cell_type": "markdown",
     "metadata": {
      "cell_tags": []
     },
     "source": [
      "<img src=\"files/img/python-call-stack-02.svg\" alt=\"Call Stack Immediately After First Function Call\" />"
     ]
    },
    {
     "cell_type": "markdown",
     "metadata": {
      "cell_tags": []
     },
     "source": [
      "Cuando llamamos `fahr_to_kelvin` dentro de `fahr_to_celsius`,\n",
      "Python crea otro *stack frame* para mantener \n",
      "las variables de `fahr_to_kelvin`:"
     ]
    },
    {
     "cell_type": "markdown",
     "metadata": {
      "cell_tags": []
     },
     "source": [
      "<img src=\"files/img/python-call-stack-03.svg\" alt=\"Call Stack During First Nested Function Call\" />"
     ]
    },
    {
     "cell_type": "markdown",
     "metadata": {
      "cell_tags": []
     },
     "source": [
      "Esto sucede porque ahora hay dos variables \n",
      "en juego llamados `temp`: el par\u00e1metro a `fahr_to_celsius`,\n",
      "y el par\u00e1metro a `fahr_to_kelvin`.\n",
      "Tener dos variables con el mismo nombre en la misma parte\n",
      "del programa ser\u00eda ambiguo,\n",
      "as\u00ed Python (y cualquier otro leguaje de programaci\u00f3n moderno) \n",
      "crea un nuevo *stack frame* para cada llamada de funci\u00f3n\n",
      "para mantener las variables de esa funci\u00f3n separadas de \n",
      "las otras definidas por otras funciones.\n",
      "\n",
      "Cuando la llamada a `fahr_to_kelvin` devuelve un valor,\n",
      "Python desecha el *stack frame* de `fahr_to_kelvin`\n",
      "y crea una nueva variable en el *stack frame* para `fahr_to_celsius` \n",
      "para mantener la temperatura en grados Kelvin:"
     ]
    },
    {
     "cell_type": "markdown",
     "metadata": {
      "cell_tags": []
     },
     "source": [
      "<img src=\"files/img/python-call-stack-04.svg\" alt=\"Call Stack After Return From First Nested Function Call\" />"
     ]
    },
    {
     "cell_type": "markdown",
     "metadata": {
      "cell_tags": []
     },
     "source": [
      "A continuaci\u00f3n, llama a `kelvin_to_celsius`,\n",
      "lo que significa que crea un *stack frame* para \n",
      "mantener las variables de esa funci\u00f3n:"
     ]
    },
    {
     "cell_type": "markdown",
     "metadata": {
      "cell_tags": []
     },
     "source": [
      "<img src=\"files/img/python-call-stack-05.svg\" alt=\"Call Stack During Call to Second Nested Function\" />"
     ]
    },
    {
     "cell_type": "markdown",
     "metadata": {
      "cell_tags": []
     },
     "source": [
      "Una vez m\u00e1s,\n",
      "Python desecha ese *stack frame* cuando `kelvin_to_celsius` \n",
      "devuelve un valor \n",
      "y crea la variable `result` en el *stack frame* para `fahr_to_celsius`:"
     ]
    },
    {
     "cell_type": "markdown",
     "metadata": {
      "cell_tags": []
     },
     "source": [
      "<img src=\"files/img/python-call-stack-06.svg\" alt=\"Call Stack After Second Nested Function Returns\" />"
     ]
    },
    {
     "cell_type": "markdown",
     "metadata": {
      "cell_tags": []
     },
     "source": [
      "Finalmente,\n",
      "cuando se efect\u00faa `fahr_to_celsius`,\n",
      "Python desecha *su* *stack frame*\n",
      "y pone su resultado en una nueva variable llamada `final`\n",
      "que se encuentra en el *stack frame* con el que comenzamos:"
     ]
    },
    {
     "cell_type": "markdown",
     "metadata": {
      "cell_tags": []
     },
     "source": [
      "<img src=\"files/img/python-call-stack-07.svg\" alt=\"Call Stack After All Functions Have Finished\" />"
     ]
    },
    {
     "cell_type": "markdown",
     "metadata": {
      "cell_tags": []
     },
     "source": [
      "Este \u00faltimo *stack frame* siempre se encuentra ah\u00ed;\n",
      "mantiene las variables que definimos fuera de \n",
      "la funci\u00f3n de nuestro c\u00f3digo.\n",
      "Lo que *no* mantiene son las variables que se \n",
      "encontraban en los distintos *stack frames*.\n",
      "Si tratamos de obtener el valor de `temp` \n",
      "despu\u00e9s de que nuestras funciones hayan terminado de ejecutarse,\n",
      "Python nos dice que tal cosa no existe:"
     ]
    },
    {
     "cell_type": "code",
     "collapsed": false,
     "input": [
      "print 'final value of temp after all function calls:', temp"
     ],
     "language": "python",
     "metadata": {
      "cell_tags": []
     },
     "outputs": [
      {
       "output_type": "stream",
       "stream": "stdout",
       "text": [
        "final value of temp after all function calls:"
       ]
      },
      {
       "ename": "NameError",
       "evalue": "name 'temp' is not defined",
       "output_type": "pyerr",
       "traceback": [
        "\u001b[1;31m---------------------------------------------------------------------------\u001b[0m\n\u001b[1;31mNameError\u001b[0m                                 Traceback (most recent call last)",
        "\u001b[1;32m<ipython-input-12-ffd9b4dbd5f1>\u001b[0m in \u001b[0;36m<module>\u001b[1;34m()\u001b[0m\n\u001b[1;32m----> 1\u001b[1;33m \u001b[1;32mprint\u001b[0m \u001b[1;34m'final value of temp after all function calls:'\u001b[0m\u001b[1;33m,\u001b[0m \u001b[0mtemp\u001b[0m\u001b[1;33m\u001b[0m\u001b[0m\n\u001b[0m",
        "\u001b[1;31mNameError\u001b[0m: name 'temp' is not defined"
       ]
      }
     ],
     "prompt_number": 12
    },
    {
     "cell_type": "markdown",
     "metadata": {
      "cell_tags": []
     },
     "source": [
      "\u00bfPor qu\u00e9 tomarse todas estas molestias? \n",
      "Bueno,\n",
      "aqu\u00ed tenemos una funci\u00f3n llamada `span` que determina la diferencia entre\n",
      "los m\u00ednimos y m\u00e1ximos en una matriz:"
     ]
    },
    {
     "cell_type": "code",
     "collapsed": false,
     "input": [
      "import numpy\n",
      "\n",
      "def span(a):\n",
      "    diff = a.max() - a.min()\n",
      "    return diff\n",
      "\n",
      "data = numpy.loadtxt(fname='inflammation-01.csv', delimiter=',')\n",
      "print 'span of data', span(data)"
     ],
     "language": "python",
     "metadata": {
      "cell_tags": []
     },
     "outputs": [
      {
       "output_type": "stream",
       "stream": "stdout",
       "text": [
        " span of data 20.0\n"
       ]
      }
     ],
     "prompt_number": 13
    },
    {
     "cell_type": "markdown",
     "metadata": {
      "cell_tags": []
     },
     "source": [
      "Observe que `span` asigna un valor a \n",
      "una variable llamada `diff`.\n",
      "Podr\u00edamos utilizar una variable con \n",
      "el mismo nombre para guardar datos:"
     ]
    },
    {
     "cell_type": "code",
     "collapsed": false,
     "input": [
      "diff = numpy.loadtxt(fname='inflammation-01.csv', delimiter=',')\n",
      "print 'span of data:', span(diff)"
     ],
     "language": "python",
     "metadata": {
      "cell_tags": []
     },
     "outputs": [
      {
       "output_type": "stream",
       "stream": "stdout",
       "text": [
        "span of data: 20.0\n"
       ]
      }
     ],
     "prompt_number": 14
    },
    {
     "cell_type": "markdown",
     "metadata": {
      "cell_tags": []
     },
     "source": [
      "No esperamos que `diff` tome el valor de 20.0 \n",
      "despu\u00e9s de esta llamada a la funci\u00f3n, \n",
      "por lo que el nombre `diff`  no puede referirse \n",
      "a la mismo que hay dentro de `span` como lo hace \n",
      "en el cuerpo principal de nuestro programa.\n",
      "Y s\u00ed,\n",
      "probablemente podr\u00edamos elegir un nombre diferente a `diff`\n",
      "en nuestro programa principal en este caso,\n",
      "pero no queremos tener que leer cada l\u00ednea de NumPy \n",
      "para ver qu\u00e9 nombres variables utilizan sus funciones \n",
      "antes de llamar a cualquiera de esas funciones, \n",
      "s\u00f3lo en caso de que cambien los valores de nuestras variables."
     ]
    },
    {
     "cell_type": "markdown",
     "metadata": {
      "cell_tags": []
     },
     "source": [
      "La gran idea aqu\u00ed es [encapsulation](../../gloss.html#encapsulation),\n",
      "y es la clave para escribir programas correctos y comprensibles. \n",
      "El trabajo de un funci\u00f3n es convertir varias operaciones en una sola \n",
      "para que podamos pensar en una sola llamada de funci\u00f3n \n",
      "en lugar de una docena o un centenar de declaraciones \n",
      "cada vez que queremos hacer algo. \n",
      "Eso s\u00f3lo funciona si las funciones no interfieran entre s\u00ed; \n",
      "si lo hacen\n",
      "tenemos que prestar atenci\u00f3n a los detalles, una vez m\u00e1s, \n",
      "que sobrecargan r\u00e1pidamente nuestra memoria a corto plazo."
     ]
    },
    {
     "cell_type": "markdown",
     "metadata": {
      "cell_tags": [
       "challenges"
      ]
     },
     "source": [
      "#### Retos\n",
      "\n",
      "1.  Previamente se han escrito funciones llamadas `fence` y `outer`.\n",
      "    Dibuje un diagrama que muestra la forma en la que cambia el *call stack* cuando ejecutamos lo siguiente:\n",
      "    \n",
      "    ~~~python\n",
      "    print outer(fence('carbon', '+'))\n",
      "    ~~~"
     ]
    },
    {
     "cell_type": "heading",
     "level": 3,
     "metadata": {
      "cell_tags": []
     },
     "source": [
      "Comprobaci\u00f3n y Documentaci\u00f3n"
     ]
    },
    {
     "cell_type": "markdown",
     "metadata": {
      "cell_tags": []
     },
     "source": [
      "Una vez que empezamos a poner los elementos en \n",
      "funciones para que podamos volver a utilizarlos, \n",
      "tenemos que empezar a comprobar que esas \n",
      "funciones est\u00e1n trabajando correctamente. \n",
      "Para ver c\u00f3mo se hace esto, \n",
      "vamos a escribir una funci\u00f3n para centrar un \n",
      "conjunto de datos en torno a un valor particular: "
     ]
    },
    {
     "cell_type": "code",
     "collapsed": false,
     "input": [
      "def center(data, desired):\n",
      "    return (data - data.mean()) + desired"
     ],
     "language": "python",
     "metadata": {
      "cell_tags": []
     },
     "outputs": [],
     "prompt_number": 15
    },
    {
     "cell_type": "markdown",
     "metadata": {
      "cell_tags": []
     },
     "source": [
      "Podr\u00edamos probar esto en nuestros datos reales, \n",
      "pero ya que no sabemos cu\u00e1les son los valores que deben ser, \n",
      "ser\u00e1 dif\u00edcil saber si el resultado es correcto. \n",
      "En lugar de ello, \n",
      "usemos NumPy para crear una matriz de 0's\n",
      "y despu\u00e9s centrar esto en torno a 3:"
     ]
    },
    {
     "cell_type": "code",
     "collapsed": false,
     "input": [
      "z = numpy.zeros((2,2))\n",
      "print center(z, 3)"
     ],
     "language": "python",
     "metadata": {
      "cell_tags": []
     },
     "outputs": [
      {
       "output_type": "stream",
       "stream": "stdout",
       "text": [
        "[[ 3.  3.]\n",
        " [ 3.  3.]]\n"
       ]
      }
     ],
     "prompt_number": 16
    },
    {
     "cell_type": "markdown",
     "metadata": {
      "cell_tags": []
     },
     "source": [
      "Esto parece correcto,\n",
      "vamos a intentar aplicar `center` en \n",
      "nuestros datos reales:"
     ]
    },
    {
     "cell_type": "code",
     "collapsed": false,
     "input": [
      "data = numpy.loadtxt(fname='inflammation-01.csv', delimiter=',')\n",
      "print center(data, 0)"
     ],
     "language": "python",
     "metadata": {
      "cell_tags": []
     },
     "outputs": [
      {
       "output_type": "stream",
       "stream": "stdout",
       "text": [
        "[[-6.14875 -6.14875 -5.14875 ..., -3.14875 -6.14875 -6.14875]\n",
        " [-6.14875 -5.14875 -4.14875 ..., -5.14875 -6.14875 -5.14875]\n",
        " [-6.14875 -5.14875 -5.14875 ..., -4.14875 -5.14875 -5.14875]\n",
        " ..., \n",
        " [-6.14875 -5.14875 -5.14875 ..., -5.14875 -5.14875 -5.14875]\n",
        " [-6.14875 -6.14875 -6.14875 ..., -6.14875 -4.14875 -6.14875]\n",
        " [-6.14875 -6.14875 -5.14875 ..., -5.14875 -5.14875 -6.14875]]\n"
       ]
      }
     ],
     "prompt_number": 17
    },
    {
     "cell_type": "markdown",
     "metadata": {
      "cell_tags": []
     },
     "source": [
      "Es dif\u00edcil saber a partir de la salida \n",
      "por defecto si el resultado es correcto, \n",
      "pero hay algunas pruebas sencillas \n",
      "que nos dar tranquilidad:"
     ]
    },
    {
     "cell_type": "code",
     "collapsed": false,
     "input": [
      "print 'original min, mean, and max are:', data.min(), data.mean(), data.max()\n",
      "centered = center(data, 0)\n",
      "print 'min, mean, and and max of centered data are:', centered.min(), centered.mean(), centered.max()"
     ],
     "language": "python",
     "metadata": {
      "cell_tags": []
     },
     "outputs": [
      {
       "output_type": "stream",
       "stream": "stdout",
       "text": [
        "original min, mean, and max are: 0.0 6.14875 20.0\n",
        "min, mean, and and max of centered data are: -6.14875 -3.49054118942e-15 13.85125\n"
       ]
      }
     ],
     "prompt_number": 18
    },
    {
     "cell_type": "markdown",
     "metadata": {
      "cell_tags": []
     },
     "source": [
      "Esto parece casi correcto:\n",
      "la media original estaba alrededor de 6.1,\n",
      "por lo que el l\u00edmite inferior de cero es \n",
      "c\u00f3mo sobre (is how about\u00bf?=es c\u00f3mo sobre) -6.1.\n",
      "La media de los datos centrados no es exactamente cero\n",
      "&mdash;exploraremos porque no en los retos&mdash;\n",
      "pero est\u00e1 bastante cerca.\n",
      "Incluso podemos ir m\u00e1s all\u00e1 y comprobar que \n",
      "la desviaci\u00f3n est\u00e1ndar no ha cambiado:\n",
      "\n",
      "*REVISI\u00d3N*"
     ]
    },
    {
     "cell_type": "code",
     "collapsed": false,
     "input": [
      "print 'std dev before and after:', data.std(), centered.std()"
     ],
     "language": "python",
     "metadata": {
      "cell_tags": []
     },
     "outputs": [
      {
       "output_type": "stream",
       "stream": "stdout",
       "text": [
        "std dev before and after: 4.61383319712 4.61383319712\n"
       ]
      }
     ],
     "prompt_number": 19
    },
    {
     "cell_type": "markdown",
     "metadata": {
      "cell_tags": []
     },
     "source": [
      "Esos valores tienen el mismo aspecto, \n",
      "pero probablemente no nos dariamos cuenta \n",
      "si fuesen distintos en la sexta posici\u00f3n decimal.\n",
      "Hagamos esto en su lugar: "
     ]
    },
    {
     "cell_type": "code",
     "collapsed": false,
     "input": [
      "print 'difference in standard deviations before and after:', data.std() - centered.std()"
     ],
     "language": "python",
     "metadata": {
      "cell_tags": []
     },
     "outputs": [
      {
       "output_type": "stream",
       "stream": "stdout",
       "text": [
        "difference in standard deviations before and after: -3.5527136788e-15\n"
       ]
      }
     ],
     "prompt_number": 20
    },
    {
     "cell_type": "markdown",
     "metadata": {
      "cell_tags": []
     },
     "source": [
      "Una vez m\u00e1s, \n",
      "la diferencia es muy peque\u00f1a.\n",
      "Todav\u00eda es posible que nuestra funci\u00f3n sea incorrecta,\n",
      "pero parece bastante inveros\u00edmil que probablemente \n",
      "debamos volver a hacer nuestro an\u00e1lisis.\n",
      "Tenemos en primer lugar una tarea m\u00e1s, sin embargo:\n",
      "debemos escribir algunas [documentation](../../gloss.html#documentation) \n",
      "para nuestra funci\u00f3n para recordarnos a nosotros mismos \n",
      "m\u00e1s adelante para qu\u00e9 sirve y c\u00f3mo usarlo.\n",
      "La forma habitual de poner la documentaci\u00f3n en \n",
      "software es agregar [comments](../../gloss.html#comment) Como este:"
     ]
    },
    {
     "cell_type": "code",
     "collapsed": false,
     "input": [
      "# center(data, desired): return a new array containing the original data centered around the desired value.\n",
      "def center(data, desired):\n",
      "    return (data - data.mean()) + desired"
     ],
     "language": "python",
     "metadata": {
      "cell_tags": []
     },
     "outputs": [],
     "prompt_number": 21
    },
    {
     "cell_type": "markdown",
     "metadata": {
      "cell_tags": []
     },
     "source": [
      "Sin embargo, hay una mejor manera. \n",
      "Si el primer elemento en una funci\u00f3n es una serie \n",
      "que no est\u00e1 asignada a una variable, \n",
      "dicha serie se une a la funci\u00f3n como su documentaci\u00f3n:"
     ]
    },
    {
     "cell_type": "code",
     "collapsed": false,
     "input": [
      "def center(data, desired):\n",
      "    '''Return a new array containing the original data centered around the desired value.'''\n",
      "    return (data - data.mean()) + desired"
     ],
     "language": "python",
     "metadata": {
      "cell_tags": []
     },
     "outputs": [],
     "prompt_number": 22
    },
    {
     "cell_type": "markdown",
     "metadata": {
      "cell_tags": []
     },
     "source": [
      "Esto es mejor porque ahora podemos pedir a una \n",
      "funci\u00f3n de sistema de ayuda de Python que \n",
      "nos muestre la documentaci\u00f3n de la funci\u00f3n: "
     ]
    },
    {
     "cell_type": "code",
     "collapsed": false,
     "input": [
      "help(center)"
     ],
     "language": "python",
     "metadata": {
      "cell_tags": []
     },
     "outputs": [
      {
       "output_type": "stream",
       "stream": "stdout",
       "text": [
        "Help on function center in module __main__:\n",
        "\n",
        "center(data, desired)\n",
        "    Return a new array containing the original data centered around the desired value.\n",
        "\n"
       ]
      }
     ],
     "prompt_number": 23
    },
    {
     "cell_type": "markdown",
     "metadata": {
      "cell_tags": []
     },
     "source": [
      "Una cadena como esta se llama [docstring](../../gloss.html#docstring).\n",
      "No necesitamos usar comillas triples cuando escribimos una, \n",
      "pero si lo hacemos,\n",
      "podemos romper la cadena en varias l\u00edneas:"
     ]
    },
    {
     "cell_type": "code",
     "collapsed": false,
     "input": [
      "def center(data, desired):\n",
      "    '''Return a new array containing the original data centered around the desired value.\n",
      "    Example: center([1, 2, 3], 0) => [-1, 0, 1]'''\n",
      "    return (data - data.mean()) + desired\n",
      "\n",
      "help(center)"
     ],
     "language": "python",
     "metadata": {
      "cell_tags": []
     },
     "outputs": [
      {
       "output_type": "stream",
       "stream": "stdout",
       "text": [
        "Help on function center in module __main__:\n",
        "\n",
        "center(data, desired)\n",
        "    Return a new array containing the original data centered around the desired value.\n",
        "    Example: center([1, 2, 3], 0) => [-1, 0, 1]\n",
        "\n"
       ]
      }
     ],
     "prompt_number": 24
    },
    {
     "cell_type": "markdown",
     "metadata": {
      "cell_tags": [
       "challenges"
      ]
     },
     "source": [
      "#### Retos\n",
      "\n",
      "1.  Escriba una funci\u00f3n llamada `analyze` que toma un nombre de archivo como par\u00e1metro\n",
      "    y muestra los tres gr\u00e1ficos que han producido en el [previous lesson](01-numpy.ipynb) (Cap\u00edtulo Anterior),\n",
      "    es decir,\n",
      "    `analyze('inflammation-01.csv')` debe producir los gr\u00e1ficos ya mostrados,\n",
      "    mientras que `analyze('inflammation-02.csv')` debe producir los correspondientes gr\u00e1ficos para el segundo conjunto de datos.\n",
      "    Aseg\u00farese de darle a su funci\u00f3n un *docstring* (Cadena de Documentaci\u00f3n).\n",
      "\n",
      "2.  Escribe una funci\u00f3n `rescale` que toma una matriz como entrada\n",
      "    y devuelve una matriz correspondiente de valores a escala para estar en el intervalo de 0.0 a 1.0.\n",
      "    (Si $L$ y $H$ son los valores m\u00ednimos y m\u00e1ximos en la matriz original,\n",
      "    entonces para un valor de $v$ su reemplazo deber\u00eda ser $(v-L) / (H-L)$.)\n",
      "     Aseg\u00farese de darle a la funci\u00f3n un *docstring*.\n",
      "\n",
      "3.  Ejecute el comando `help(numpy.arange)` y `help(numpy.linspace)`\n",
      "    para ver c\u00f3mo utilizar estas funciones para generar valores regularmente espaciados, \n",
      "    a continuaci\u00f3n, utlizar esos valores para probar la funci\u00f3n `rescale`."
     ]
    },
    {
     "cell_type": "heading",
     "level": 3,
     "metadata": {
      "cell_tags": []
     },
     "source": [
      "*Defining Defaults* (Definici\u00f3n de Valores Predeterminados)"
     ]
    },
    {
     "cell_type": "markdown",
     "metadata": {
      "cell_tags": []
     },
     "source": [
      "Hemos pasado par\u00e1metros a funciones de dos maneras: \n",
      "directamente, como en `span(data)`,\n",
      "y por su nombre, como en `numpy.loadtxt(fname='something.csv', delimiter=',')`.\n",
      "De hecho,\n",
      "podemos pasar el nombre del archivo a `loadtxt` sin el `fname=`:"
     ]
    },
    {
     "cell_type": "code",
     "collapsed": false,
     "input": [
      "numpy.loadtxt('inflammation-01.csv', delimiter=',')"
     ],
     "language": "python",
     "metadata": {
      "cell_tags": []
     },
     "outputs": [
      {
       "metadata": {},
       "output_type": "pyout",
       "prompt_number": 25,
       "text": [
        "array([[ 0.,  0.,  1., ...,  3.,  0.,  0.],\n",
        "       [ 0.,  1.,  2., ...,  1.,  0.,  1.],\n",
        "       [ 0.,  1.,  1., ...,  2.,  1.,  1.],\n",
        "       ..., \n",
        "       [ 0.,  1.,  1., ...,  1.,  1.,  1.],\n",
        "       [ 0.,  0.,  0., ...,  0.,  2.,  0.],\n",
        "       [ 0.,  0.,  1., ...,  1.,  1.,  0.]])"
       ]
      }
     ],
     "prompt_number": 25
    },
    {
     "cell_type": "markdown",
     "metadata": {
      "cell_tags": []
     },
     "source": [
      "pero todav\u00eda tenemos que decir `delimiter=`:"
     ]
    },
    {
     "cell_type": "code",
     "collapsed": false,
     "input": [
      "numpy.loadtxt('inflammation-01.csv', ',')"
     ],
     "language": "python",
     "metadata": {
      "cell_tags": []
     },
     "outputs": [
      {
       "ename": "TypeError",
       "evalue": "data type \",\" not understood",
       "output_type": "pyerr",
       "traceback": [
        "\u001b[1;31m---------------------------------------------------------------------------\u001b[0m\n\u001b[1;31mTypeError\u001b[0m                                 Traceback (most recent call last)",
        "\u001b[1;32m<ipython-input-26-e3bc6cf4fd6a>\u001b[0m in \u001b[0;36m<module>\u001b[1;34m()\u001b[0m\n\u001b[1;32m----> 1\u001b[1;33m \u001b[0mnumpy\u001b[0m\u001b[1;33m.\u001b[0m\u001b[0mloadtxt\u001b[0m\u001b[1;33m(\u001b[0m\u001b[1;34m'inflammation-01.csv'\u001b[0m\u001b[1;33m,\u001b[0m \u001b[1;34m','\u001b[0m\u001b[1;33m)\u001b[0m\u001b[1;33m\u001b[0m\u001b[0m\n\u001b[0m",
        "\u001b[1;32mC:\\Users\\Zurii\\Anaconda\\lib\\site-packages\\numpy\\lib\\npyio.pyc\u001b[0m in \u001b[0;36mloadtxt\u001b[1;34m(fname, dtype, comments, delimiter, converters, skiprows, usecols, unpack, ndmin)\u001b[0m\n\u001b[0;32m    796\u001b[0m     \u001b[1;32mtry\u001b[0m\u001b[1;33m:\u001b[0m\u001b[1;33m\u001b[0m\u001b[0m\n\u001b[0;32m    797\u001b[0m         \u001b[1;31m# Make sure we're dealing with a proper dtype\u001b[0m\u001b[1;33m\u001b[0m\u001b[1;33m\u001b[0m\u001b[0m\n\u001b[1;32m--> 798\u001b[1;33m         \u001b[0mdtype\u001b[0m \u001b[1;33m=\u001b[0m \u001b[0mnp\u001b[0m\u001b[1;33m.\u001b[0m\u001b[0mdtype\u001b[0m\u001b[1;33m(\u001b[0m\u001b[0mdtype\u001b[0m\u001b[1;33m)\u001b[0m\u001b[1;33m\u001b[0m\u001b[0m\n\u001b[0m\u001b[0;32m    799\u001b[0m         \u001b[0mdefconv\u001b[0m \u001b[1;33m=\u001b[0m \u001b[0m_getconv\u001b[0m\u001b[1;33m(\u001b[0m\u001b[0mdtype\u001b[0m\u001b[1;33m)\u001b[0m\u001b[1;33m\u001b[0m\u001b[0m\n\u001b[0;32m    800\u001b[0m \u001b[1;33m\u001b[0m\u001b[0m\n",
        "\u001b[1;31mTypeError\u001b[0m: data type \",\" not understood"
       ]
      }
     ],
     "prompt_number": 26
    },
    {
     "cell_type": "markdown",
     "metadata": {
      "cell_tags": []
     },
     "source": [
      "Para entender lo que est\u00e1 pasando, \n",
      "y hacer nuestras propias funciones f\u00e1ciles de usar, \n",
      "redefinamos nuestra funci\u00f3n `center` as\u00ed:"
     ]
    },
    {
     "cell_type": "code",
     "collapsed": false,
     "input": [
      "def center(data, desired=0.0):\n",
      "    '''Return a new array containing the original data centered around the desired value (0 by default).\n",
      "    Example: center([1, 2, 3], 0) => [-1, 0, 1]'''\n",
      "    return (data - data.mean()) + desired"
     ],
     "language": "python",
     "metadata": {
      "cell_tags": []
     },
     "outputs": [],
     "prompt_number": 27
    },
    {
     "cell_type": "markdown",
     "metadata": {
      "cell_tags": []
     },
     "source": [
      "El cambio fundamental es que el segundo \n",
      "par\u00e1metro ahora se escribe `desired=0.0` en lugar de `desired`.\n",
      "Si llamamos a la funci\u00f3n con dos argumentos, \n",
      "funciona como lo hac\u00eda antes:"
     ]
    },
    {
     "cell_type": "code",
     "collapsed": false,
     "input": [
      "test_data = numpy.zeros((2, 2))\n",
      "print center(test_data, 3)"
     ],
     "language": "python",
     "metadata": {
      "cell_tags": []
     },
     "outputs": [
      {
       "output_type": "stream",
       "stream": "stdout",
       "text": [
        "[[ 3.  3.]\n",
        " [ 3.  3.]]\n"
       ]
      }
     ],
     "prompt_number": 28
    },
    {
     "cell_type": "markdown",
     "metadata": {
      "cell_tags": []
     },
     "source": [
      "Pero tambi\u00e9n podemos ahora llamarlo con un solo par\u00e1metro, \n",
      "en cuyo caso `desired` se le asigna autom\u00e1ticamente \n",
      "el [default value](../../gloss.html#default-parameter-value) de 0.0:"
     ]
    },
    {
     "cell_type": "code",
     "collapsed": false,
     "input": [
      "more_data = 5 + numpy.zeros((2, 2))\n",
      "print 'data before centering:', more_data\n",
      "print 'centered data:', center(more_data)"
     ],
     "language": "python",
     "metadata": {
      "cell_tags": []
     },
     "outputs": [
      {
       "output_type": "stream",
       "stream": "stdout",
       "text": [
        "data before centering: [[ 5.  5.]\n",
        " [ 5.  5.]]\n",
        "centered data: [[ 0.  0.]\n",
        " [ 0.  0.]]\n"
       ]
      }
     ],
     "prompt_number": 29
    },
    {
     "cell_type": "markdown",
     "metadata": {
      "cell_tags": []
     },
     "source": [
      "Esto es \u00fatil: \n",
      "si normalmente queremos una funci\u00f3n para trabajar de una manera, \n",
      "pero en ocasiones es necesario que haga algo m\u00e1s,\n",
      "podemos permitir que la gente pase un \n",
      "par\u00e1metro cuando lo necesiten pero proporcionar \n",
      "un valor predeterminado para que el caso normal sea m\u00e1s f\u00e1cil.\n",
      "El siguiente ejemplo muestra c\u00f3mo \n",
      "Python asigna valores a los par\u00e1metros:"
     ]
    },
    {
     "cell_type": "code",
     "collapsed": false,
     "input": [
      "def display(a=1, b=2, c=3):\n",
      "    print 'a:', a, 'b:', b, 'c:', c\n",
      "\n",
      "print 'no parameters:'\n",
      "display()\n",
      "print 'one parameter:'\n",
      "display(55)\n",
      "print 'two parameters:'\n",
      "display(55, 66)"
     ],
     "language": "python",
     "metadata": {
      "cell_tags": []
     },
     "outputs": [
      {
       "output_type": "stream",
       "stream": "stdout",
       "text": [
        "no parameters:\n",
        "a: 1 b: 2 c: 3\n",
        "one parameter:\n",
        "a: 55 b: 2 c: 3\n",
        "two parameters:\n",
        "a: 55 b: 66 c: 3\n"
       ]
      }
     ],
     "prompt_number": 30
    },
    {
     "cell_type": "markdown",
     "metadata": {
      "cell_tags": []
     },
     "source": [
      "Como muestra este ejemplo, \n",
      "los par\u00e1metros se emparejan de izquierda a derecha, \n",
      "y las que no se les ha dado un valor consiguen \n",
      "expl\u00edcitamente su valor por defecto. \n",
      "Podemos cambiar este comportamiento al \n",
      "nombrar el valor a medida que pasamos:"
     ]
    },
    {
     "cell_type": "code",
     "collapsed": false,
     "input": [
      "print 'only setting the value of c'\n",
      "display(c=77)"
     ],
     "language": "python",
     "metadata": {
      "cell_tags": []
     },
     "outputs": [
      {
       "output_type": "stream",
       "stream": "stdout",
       "text": [
        "only setting the value of c\n",
        "a: 1 b: 2 c: 77\n"
       ]
      }
     ],
     "prompt_number": 31
    },
    {
     "cell_type": "markdown",
     "metadata": {
      "cell_tags": []
     },
     "source": [
      "Con eso en la mano,\n",
      "echemos un vistazo a la ayuda para `numpy.loadtxt`:"
     ]
    },
    {
     "cell_type": "code",
     "collapsed": false,
     "input": [
      "help(numpy.loadtxt)"
     ],
     "language": "python",
     "metadata": {
      "cell_tags": []
     },
     "outputs": [
      {
       "output_type": "stream",
       "stream": "stdout",
       "text": [
        "Help on function loadtxt in module numpy.lib.npyio:\n",
        "\n",
        "loadtxt(fname, dtype=<type 'float'>, comments='#', delimiter=None, converters=None, skiprows=0, usecols=None, unpack=False, ndmin=0)\n",
        "    Load data from a text file.\n",
        "    \n",
        "    Each row in the text file must have the same number of values.\n",
        "    \n",
        "    Parameters\n",
        "    ----------\n",
        "    fname : file or str\n",
        "        File, filename, or generator to read.  If the filename extension is\n",
        "        ``.gz`` or ``.bz2``, the file is first decompressed. Note that\n",
        "        generators should return byte strings for Python 3k.\n",
        "    dtype : data-type, optional\n",
        "        Data-type of the resulting array; default: float.  If this is a\n",
        "        record data-type, the resulting array will be 1-dimensional, and\n",
        "        each row will be interpreted as an element of the array.  In this\n",
        "        case, the number of columns used must match the number of fields in\n",
        "        the data-type.\n",
        "    comments : str, optional\n",
        "        The character used to indicate the start of a comment;\n",
        "        default: '#'.\n",
        "    delimiter : str, optional\n",
        "        The string used to separate values.  By default, this is any\n",
        "        whitespace.\n",
        "    converters : dict, optional\n",
        "        A dictionary mapping column number to a function that will convert\n",
        "        that column to a float.  E.g., if column 0 is a date string:\n",
        "        ``converters = {0: datestr2num}``.  Converters can also be used to\n",
        "        provide a default value for missing data (but see also `genfromtxt`):\n",
        "        ``converters = {3: lambda s: float(s.strip() or 0)}``.  Default: None.\n",
        "    skiprows : int, optional\n",
        "        Skip the first `skiprows` lines; default: 0.\n",
        "    usecols : sequence, optional\n",
        "        Which columns to read, with 0 being the first.  For example,\n",
        "        ``usecols = (1,4,5)`` will extract the 2nd, 5th and 6th columns.\n",
        "        The default, None, results in all columns being read.\n",
        "    unpack : bool, optional\n",
        "        If True, the returned array is transposed, so that arguments may be\n",
        "        unpacked using ``x, y, z = loadtxt(...)``.  When used with a record\n",
        "        data-type, arrays are returned for each field.  Default is False.\n",
        "    ndmin : int, optional\n",
        "        The returned array will have at least `ndmin` dimensions.\n",
        "        Otherwise mono-dimensional axes will be squeezed.\n",
        "        Legal values: 0 (default), 1 or 2.\n",
        "    \n",
        "        .. versionadded:: 1.6.0\n",
        "    \n",
        "    Returns\n",
        "    -------\n",
        "    out : ndarray\n",
        "        Data read from the text file.\n",
        "    \n",
        "    See Also\n",
        "    --------\n",
        "    load, fromstring, fromregex\n",
        "    genfromtxt : Load data with missing values handled as specified.\n",
        "    scipy.io.loadmat : reads MATLAB data files\n",
        "    \n",
        "    Notes\n",
        "    -----\n",
        "    This function aims to be a fast reader for simply formatted files.  The\n",
        "    `genfromtxt` function provides more sophisticated handling of, e.g.,\n",
        "    lines with missing values.\n",
        "    \n",
        "    Examples\n",
        "    --------\n",
        "    >>> from StringIO import StringIO   # StringIO behaves like a file object\n",
        "    >>> c = StringIO(\"0 1\\n2 3\")\n",
        "    >>> np.loadtxt(c)\n",
        "    array([[ 0.,  1.],\n",
        "           [ 2.,  3.]])\n",
        "    \n",
        "    >>> d = StringIO(\"M 21 72\\nF 35 58\")\n",
        "    >>> np.loadtxt(d, dtype={'names': ('gender', 'age', 'weight'),\n",
        "    ...                      'formats': ('S1', 'i4', 'f4')})\n",
        "    array([('M', 21, 72.0), ('F', 35, 58.0)],\n",
        "          dtype=[('gender', '|S1'), ('age', '<i4'), ('weight', '<f4')])\n",
        "    \n",
        "    >>> c = StringIO(\"1,0,2\\n3,0,4\")\n",
        "    >>> x, y = np.loadtxt(c, delimiter=',', usecols=(0, 2), unpack=True)\n",
        "    >>> x\n",
        "    array([ 1.,  3.])\n",
        "    >>> y\n",
        "    array([ 2.,  4.])\n",
        "\n"
       ]
      }
     ],
     "prompt_number": 32
    },
    {
     "cell_type": "markdown",
     "metadata": {
      "cell_tags": []
     },
     "source": [
      "Hay una gran cantidad de informaci\u00f3n aqu\u00ed,\n",
      "pero la parte m\u00e1s importante es el primer par de l\u00edneas:\n",
      "\n",
      "~~~python\n",
      "loadtxt(fname, dtype=<type 'float'>, comments='#', delimiter=None, converters=None, skiprows=0, usecols=None,\n",
      "        unpack=False, ndmin=0)\n",
      "~~~\n",
      "\n",
      "Esto nos dice que `loadtxt`  tiene un par\u00e1metro \n",
      "denominado `fname` que no tiene un valor predeterminado, \n",
      "y otros ocho que hacer. \n",
      "Si llamamos a la funci\u00f3n de la siguiente manera:\n",
      "\n",
      "~~~python\n",
      "numpy.loadtxt('inflammation-01.csv', ',')\n",
      "~~~\n",
      "\n",
      "entonces el nombre del archivo se asigna \n",
      "a `fname` (que es lo que queremos),\n",
      "pero la cadena delimitadora `','` se asigna \n",
      "a `dtype` en lugar the `delimiter`,\n",
      "porque `dtype` es el segundo par\u00e1metro de la lista.\n",
      "Por eso es que no debemos dar `fname=` \n",
      "como nombre de archivo,\n",
      "pero *no* tiene que proporcionar `delimiter=` \n",
      "para el segundo par\u00e1metro."
     ]
    },
    {
     "cell_type": "markdown",
     "metadata": {
      "cell_tags": [
       "challenges"
      ]
     },
     "source": [
      "#### Retos\n",
      "\n",
      "1.  Reescribe la funci\u00f3n `rescale` para que las escalas de datos ent\u00e9n entre 0.0 y 1.0 por defecto,\n",
      "    pero permitir\u00e1 que la persona que llama pueda especificar los l\u00edmites inferior y superior, si quiere. \n",
      "    Compare su aplicaci\u00f3n con su compa\u00f1ero:\n",
      "    \u00bfLas dos funciones se comportan siempre de la misma manera?"
     ]
    },
    {
     "cell_type": "markdown",
     "metadata": {
      "cell_tags": [
       "keypoints"
      ]
     },
     "source": [
      "#### Puntos Clave\n",
      "\n",
      "*   Definir una funci\u00f3n utilizando `def name(...params...)`.\n",
      "*   El cuerpo de una funci\u00f3n debe tener una sangr\u00eda.\n",
      "*   Llame a una funci\u00f3n utilizando `name(...values...)`.\n",
      "*   Los n\u00fameros se almacenan como n\u00fameros enteros o *floating-point numbers*.\n",
      "*   Diviones de enteros produce toda la parte de la respuesta (no la parte fraccionaria).\n",
      "*    Cada vez que una funci\u00f3n es llamada, un nuevo *new stack frame* es creado en el [call stack](../../gloss.html#call-stack) para mantener sus par\u00e1metros y variables locales.\n",
      "*   Python busca variables en el *stack frame* actual antes de buscarlos en el nivel superior.\n",
      "*   Utilizar `help(thing)` para ver la ayuda en algo.\n",
      "*   Poner *docstrings* en funciones para proporcionar ayuda en estas.\n",
      "*   Especificar valores predeterminados para los par\u00e1metros en la definici\u00f3n de una funci\u00f3n utilizando `name=value` en la lista de par\u00e1metros.\n",
      "*   Los par\u00e1metros se pueden pasar por concordancia basada en el nombre, por la posici\u00f3n, o por la omisi\u00f3n de ellos (en cuyo caso se utiliza el valor por defecto)."
     ]
    },
    {
     "cell_type": "markdown",
     "metadata": {
      "cell_tags": []
     },
     "source": [
      "#### Siguientes Pasos\n",
      "\n",
      "Ahora tenemos una funci\u00f3n llamada `analyze` para \n",
      "visualizar un \u00fanico conjunto de datos.\n",
      "Podr\u00edamos usarla para explorar nuestros 12 conjuntos \n",
      "de datos actuales de la forma siguiente:\n",
      "\n",
      "~~~python\n",
      "analyze('inflammation-01.csv')\n",
      "analyze('inflammation-02.csv')\n",
      "...\n",
      "analyze('inflammation-12.csv')\n",
      "~~~\n",
      "\n",
      "pero la probabilidad de escrbir los 12 nombres \n",
      "de archivo correctamente no son buenas,\n",
      "y vamos a estar en una situaci\u00f3n a\u00fan peor si \n",
      "conseguimos otro centenar de archivos m\u00e1s. \n",
      "Lo que necesitamos es una manera de decirle a \n",
      "Python que debe hacer  una vez por cada archivo, \n",
      "y ese ser\u00e1 el tema de la pr\u00f3xima lecci\u00f3n."
     ]
    }
   ],
   "metadata": {}
  }
 ]
}